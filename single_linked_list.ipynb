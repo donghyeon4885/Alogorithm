{
 "cells": [
  {
   "cell_type": "markdown",
   "id": "99c28e61",
   "metadata": {},
   "source": [
    "## single_linked_list"
   ]
  },
  {
   "cell_type": "code",
   "execution_count": null,
   "id": "4dd05870",
   "metadata": {},
   "outputs": [],
   "source": [
    "# 데이터가 5개인 단순 연결 리스트\n",
    "# katok = ['다현', '정연', '쯔위', '사나', '지효']\n",
    "class Node:\n",
    "    def __init__(self):\n",
    "        self.data = None\n",
    "        self.link = None\n",
    "\n",
    "node1 = Node()   # node1.data <- None,   node1.link <- None\n",
    "node1.data = '다현'\n",
    "node2 = Node()\n",
    "node2.data = '정연'\n",
    "node1.link = node2   # node1 의 다음 자료는 node2\n",
    "node3 = Node()\n",
    "node3.data = '쯔위'\n",
    "node2.link = node3  # node2 의 다음 자료는 node3\n",
    "print(\"node1 : \", node1.data)\n",
    "print(\"node2 : \", node1.link.data)\n",
    "print(\"node3 : \", node1.link.link.data)"
   ]
  },
  {
   "cell_type": "code",
   "execution_count": null,
   "id": "06c0b7c9",
   "metadata": {},
   "outputs": [],
   "source": [
    "node = node1\n",
    "while node.link != None:   # node.link의 값이 존재하면 -> 다음 자료가 있으면\n",
    "    print(node.data)\n",
    "    node = node.link\n",
    "print(node.data)  # 마지막 자료 출력\n",
    "print()\n",
    "node = node1\n",
    "while True:   # node.link의 값이 존재하면 -> 다음 자료가 있으면\n",
    "    print(node.data)\n",
    "    if node.link == None:\n",
    "        break\n",
    "    node = node.link\n",
    "    \n",
    "# print(node.data)  # 마지막 자료 출력"
   ]
  },
  {
   "cell_type": "code",
   "execution_count": 20,
   "id": "c286cfb8",
   "metadata": {},
   "outputs": [],
   "source": [
    "class Node:\n",
    "    def __init__(self):\n",
    "        self.data = None\n",
    "        self.link = None\n",
    "\n",
    "def add_node(new_node):   # 마지막에 데이터 추가\n",
    "    global head\n",
    "    if head == None:   # 처음 node인 경우\n",
    "        head = new_node\n",
    "        return\n",
    "    node = head    # 처음  node  지정\n",
    "    while node.link:\n",
    "        node = node.link\n",
    "    node.link = new_node    \n",
    "\n",
    "def print_node():\n",
    "    node = head\n",
    "    while node:\n",
    "        output = node.data\n",
    "        node = node.link\n",
    "        if node:\n",
    "            output += ' -> '\n",
    "        print(output,end='')            "
   ]
  },
  {
   "cell_type": "code",
   "execution_count": 4,
   "id": "1088de88",
   "metadata": {},
   "outputs": [
    {
     "name": "stdout",
     "output_type": "stream",
     "text": [
      "추가할 이름 입력 : 다현\n",
      "추가할 이름 입력 : 정연\n",
      "추가할 이름 입력 : 쯔위\n",
      "추가할 이름 입력 : \n",
      "다현->정연->쯔위->\n"
     ]
    }
   ],
   "source": [
    "head = None \n",
    "while True:\n",
    "    data = input(\"추가할 이름 입력 : \")\n",
    "    if not data:\n",
    "        break\n",
    "    \n",
    "    node = Node()\n",
    "    node.data = data\n",
    "    add_node(node)\n",
    "print_node()"
   ]
  },
  {
   "cell_type": "code",
   "execution_count": 21,
   "id": "65f0297e",
   "metadata": {},
   "outputs": [
    {
     "name": "stdout",
     "output_type": "stream",
     "text": [
      "aa -> bb -> cc aa -> dd -> ee -> ii -> jj -> kk -> rr -> tt"
     ]
    }
   ],
   "source": [
    "print_node()"
   ]
  },
  {
   "cell_type": "code",
   "execution_count": 31,
   "id": "dff01a1d",
   "metadata": {},
   "outputs": [],
   "source": [
    "def insert_node(new_node):   # 마지막에 데이터 추가\n",
    "    global head\n",
    "    if head == None:   # 처음 node인 경우, head 에 추가할 node  주소 저장\n",
    "        head = new_node\n",
    "        return\n",
    "    node = head    # 처음  node  지정\n",
    "    while node.link:     # 추가할 위치 검색 후 node 추가\n",
    "        if node.data > new_node.data:\n",
    "            if node == head:    # 제일 앞에 추가할 경우\n",
    "                head = new_node\n",
    "                new_node.link = node\n",
    "            else:  # 중간 node  삽입\n",
    "                prev.link = new_node   # 이전 node에 새로운 node 연결\n",
    "                new_node.link = node   # 새로운 node에 현재 node 연결\n",
    "            return\n",
    "        prev = node        #  이전 node 저장\n",
    "        node = node.link   # 다음 node로 이동    \n",
    "    # 추가할 위치 없음 -> 마지막에 node  추가\n",
    "    if head == node and node.data > new_node.data:\n",
    "        head = new_node\n",
    "        new_node.link = node\n",
    "    else:\n",
    "        node.link = new_node  # 마지막 node에 추가\n",
    "        \n",
    "def delete_node(name):\n",
    "    global head\n",
    "    node = head\n",
    "    while node:\n",
    "        if name == node.data:\n",
    "            if node == head:     # 삭제할 node가 처음 node인 경우\n",
    "                head = node.link\n",
    "            else:\n",
    "                if node.link:   # 삭제할 node가 중간 node인 경우\n",
    "                    prev.link = node.link\n",
    "                else:           #  삭제할 node가 마지막 node 인 경우\n",
    "                    prev.link = None\n",
    "            del node   #  node 메모리 삭제\n",
    "            return\n",
    "        \n",
    "        prev = node\n",
    "        node = node.link"
   ]
  },
  {
   "cell_type": "code",
   "execution_count": 11,
   "id": "4cb78c2f",
   "metadata": {},
   "outputs": [],
   "source": [
    "head = None "
   ]
  },
  {
   "cell_type": "code",
   "execution_count": 17,
   "id": "8df297a9",
   "metadata": {},
   "outputs": [
    {
     "name": "stdout",
     "output_type": "stream",
     "text": [
      "추가할 이름 입력 : jj\n",
      "aa->bb->cc aa->dd->ee->ii->jj->kk->rr->tt->추가할 이름 입력 : \n",
      "aa->bb->cc aa->dd->ee->ii->jj->kk->rr->tt->"
     ]
    }
   ],
   "source": [
    "while True:\n",
    "    data = input(\"추가할 이름 입력 : \")\n",
    "    if not data:\n",
    "        break\n",
    "    \n",
    "    node = Node()\n",
    "    node.data = data\n",
    "    insert_node(node)\n",
    "    print_node()\n",
    "\n",
    "print_node()  # 최종 자료 출력"
   ]
  },
  {
   "cell_type": "code",
   "execution_count": 24,
   "id": "fc649ba7",
   "metadata": {},
   "outputs": [
    {
     "name": "stdout",
     "output_type": "stream",
     "text": [
      "aa -> bb -> cc aa -> dd -> ee -> ii -> jj -> kk -> rr -> tt"
     ]
    }
   ],
   "source": [
    "print_node()"
   ]
  },
  {
   "cell_type": "code",
   "execution_count": 36,
   "id": "c78fa649",
   "metadata": {},
   "outputs": [
    {
     "name": "stdout",
     "output_type": "stream",
     "text": [
      "삭제할 이름 입력 rr\n",
      "dd -> ee -> ii -> kk"
     ]
    }
   ],
   "source": [
    "del_data = input(\"삭제할 이름 입력 \")\n",
    "delete_node(del_data)\n",
    "print_node()"
   ]
  },
  {
   "cell_type": "code",
   "execution_count": null,
   "id": "f3225c2e",
   "metadata": {},
   "outputs": [],
   "source": [
    "# 학생의 이름, 성적을 입력하여 성적 순으로 싱글링크드 리스트로 자료를 생성\n",
    "# 1. 학생 정보 입력\n",
    "# 2. 학생 전체 목록 출력\n",
    "# 3. 학생 정보 검색   ->  이름을 입력 받아 해당 학생의 이름, 성적을 출력\n",
    "# 4. 학생 정보 수정   -> 이름을 입력 받아 학생의 정보 출력 후 \n",
    "#                        점수를 입력 받아 새로운 점수로 수정\n",
    "# 5. 학생 정보 삭제  -> 이름을 입력받아 검색 한 후 정보 삭제\n",
    "# 9. 프로그램 종료\n",
    "class Node:\n",
    "    def __init_(self):\n",
    "        self.name = None\n",
    "        self.score = None\n",
    "        self.link = None"
   ]
  },
  {
   "cell_type": "code",
   "execution_count": 37,
   "id": "165b4bff",
   "metadata": {},
   "outputs": [],
   "source": [
    "def prt_menu():\n",
    "    menu = '''\\\n",
    "    1. 학생 정보 입력\n",
    "    2. 학생 전체 목록 출력\n",
    "    3. 학생 정보 검색  \n",
    "    4. 학생 정보 수정\n",
    "    5. 학생 정보 삭제\n",
    "    9. 프로그램 종료\n",
    "    \n",
    "    '''\n",
    "    print(menu)"
   ]
  },
  {
   "cell_type": "code",
   "execution_count": 38,
   "id": "9b41b81c",
   "metadata": {},
   "outputs": [
    {
     "name": "stdout",
     "output_type": "stream",
     "text": [
      "    1. 학생 정보 입력\n",
      "    2. 학생 전체 목록 출력\n",
      "    3. 학생 정보 검색  \n",
      "    4. 학생 정보 수정\n",
      "    5. 학생 정보 삭제\n",
      "    9. 프로그램 종료\n",
      "    \n",
      "    \n"
     ]
    }
   ],
   "source": [
    "# 1. 학생 정보 입력\n",
    "# 2. 학생 전체 목록 출력\n",
    "# 3. 학생 정보 검색   ->  이름을 입력 받아 해당 학생의 이름, 성적을 출력\n",
    "# 4. 학생 정보 수정   -> 이름을 입력 받아 학생의 정보 출력 후 \n",
    "#                        점수를 입력 받아 새로운 점수로 수정\n",
    "# 5. 학생 정보 삭제  -> 이름을 입력받아 검색 한 후 정보 삭제\n",
    "# 9. 프로그램 종료\n",
    "while True:\n",
    "    prt_menu()\n",
    "    select = int(input(\"  메뉴 선택 : \"))\n",
    "    if select == 1:\n",
    "        name, score = input(\"이름 성적 입력 : \").split()\n",
    "        score = int(score)\n",
    "        insert_node(name, score)\n",
    "    elif select == 2:\n",
    "        print_node()\n",
    "    elif select == 3:\n",
    "        name = input('검색할 이름 입력 ')\n",
    "        node = search_node(name)\n",
    "        print(f'{node.name} : {node.score}')\n",
    "    elif select == 4:\n",
    "        name = input('검색할 이름 입력 ')\n",
    "        update_node(name)\n",
    "    elif select == 5:\n",
    "        name = input('삭제할 이름 입력 ')\n",
    "        delete_node(name)     \n",
    "    elif select == 9:\n",
    "        break\n",
    "    \n",
    "                 "
   ]
  }
 ],
 "metadata": {
  "kernelspec": {
   "display_name": "Python 3 (ipykernel)",
   "language": "python",
   "name": "python3"
  },
  "language_info": {
   "codemirror_mode": {
    "name": "ipython",
    "version": 3
   },
   "file_extension": ".py",
   "mimetype": "text/x-python",
   "name": "python",
   "nbconvert_exporter": "python",
   "pygments_lexer": "ipython3",
   "version": "3.9.13"
  }
 },
 "nbformat": 4,
 "nbformat_minor": 5
}
