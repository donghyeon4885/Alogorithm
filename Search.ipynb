{
 "cells": [
  {
   "cell_type": "code",
   "execution_count": 40,
   "id": "2ef57de0",
   "metadata": {},
   "outputs": [],
   "source": [
    "# 순자 검색 : 자료가 정렬되어 있지 않은 상태에서 검색\n",
    "def seqsearch(array, find_data):\n",
    "    count = 0\n",
    "    pos = -1   # 초기값을 -1로 지정\n",
    "#     size = len(array)    \n",
    "    for i in range(len(array)):\n",
    "        count += 1\n",
    "        if array[i] == find_data:\n",
    "            pos = i\n",
    "            break\n",
    "    return pos, count   # -1 또는 검색된 자료의 index"
   ]
  },
  {
   "cell_type": "code",
   "execution_count": 43,
   "id": "38b70902",
   "metadata": {},
   "outputs": [
    {
     "name": "stdout",
     "output_type": "stream",
     "text": [
      "[37, 88, 63, 17, 57, 36, 62, 40, 65, 33]\n",
      "검색 하고자 하는 숫자 입력 > 17\n",
      "검색된 자료는 17이고 ,3번째에 있음, 검색 횟수 : 4 \n"
     ]
    }
   ],
   "source": [
    "import random \n",
    "# array = [ random.randrange(1,1000) for _ in range(10) ]\n",
    "\n",
    "print(array)\n",
    "#  검색 하고자 하는 숫자 입력\n",
    "find_data = int(input('검색 하고자 하는 숫자 입력 > '))\n",
    "pos, count = seqsearch(array, find_data)\n",
    "if pos == -1:\n",
    "    print(\"검색된 자료 없음\")\n",
    "else:\n",
    "    print(\"검색된 자료는 {}이고 ,{}번째에 있음, 검색 횟수 : {} \".format(array[pos], pos, count))"
   ]
  },
  {
   "cell_type": "code",
   "execution_count": null,
   "id": "ab516c37",
   "metadata": {},
   "outputs": [],
   "source": [
    "# 문) 중복된 데이터가 있는 경우 중복된 위치 모두 반환\n",
    "def seqsearch_dup(array, find_data):\n",
    "    pos = []\n",
    "    for i in range(len(array)):\n",
    "        if array[i] == find_data:\n",
    "            pos.append(i)\n",
    "    return pos   # -1 또는 검색된 자료의 index\n",
    "\n",
    "array = [ random.randrange(1,100) for _ in range(10) ]\n",
    "array_1 = random.choices(array,k=20)\n",
    "\n",
    "print(array_1)\n",
    "#  검색 하고자 하는 숫자 입력\n",
    "find_data = int(input('검색 하고자 하는 숫자 입력 > '))\n",
    "pos = seqsearch_dup(array_1, find_data)\n",
    "if len(pos) == 0:\n",
    "    print(\"검색된 자료 없음\")\n",
    "else:\n",
    "    print(\"검색된 자료는 {}은  {}번째에 있음 \".format(find_data, pos))"
   ]
  },
  {
   "cell_type": "code",
   "execution_count": 54,
   "id": "e9057b69",
   "metadata": {},
   "outputs": [],
   "source": [
    "def seqSearch(array, f_data):\n",
    "    pos = -1\n",
    "    count = 0\n",
    "    for i in range(len(array)):\n",
    "        count += 1\n",
    "        if array[i] == f_data:\n",
    "            pos = i\n",
    "            break\n",
    "        elif array[i] > f_data:\n",
    "            break\n",
    "    return pos, count\n",
    "\n",
    "def QuickSort(array, start, end):\n",
    "    if end <= start:\n",
    "        return   \n",
    "    low = start; high = end\n",
    "    pivot = array[ (low+high)//2 ]\n",
    "    while low <= high:\n",
    "        while array[low] < pivot:\n",
    "            low += 1\n",
    "        while array[high] > pivot:\n",
    "            high -= 1\n",
    "        if low <= high:\n",
    "            array[low], array[high] = array[high],array[low]\n",
    "            low += 1; high -= 1\n",
    "    mid = low\n",
    "    QuickSort(array, start, mid - 1)  # left\n",
    "    QuickSort(array, mid, end)  # left"
   ]
  },
  {
   "cell_type": "code",
   "execution_count": 55,
   "id": "3318932b",
   "metadata": {},
   "outputs": [
    {
     "name": "stdout",
     "output_type": "stream",
     "text": [
      "[8, 82, 85, 87, 52, 99, 77, 4, 75, 53]\n",
      "\n",
      "[8, 82, 85, 87, 52, 99, 77, 4, 75, 53]\n",
      "[4, 8, 52, 53, 75, 77, 82, 85, 87, 99]\n"
     ]
    }
   ],
   "source": [
    "array = [ random.randrange(1,100) for _ in range(10) ]\n",
    "array_sort = array.copy()   #  기존의 자료를 copy \n",
    "print(array_sort);  print()\n",
    "QuickSort(array_sort, 0, len(array_sort)- 1 )\n",
    "print(array);  print(array_sort)"
   ]
  },
  {
   "cell_type": "code",
   "execution_count": 50,
   "id": "7851467e",
   "metadata": {},
   "outputs": [
    {
     "name": "stdout",
     "output_type": "stream",
     "text": [
      "검색 하고자 하는 숫자 입력 > 96\n",
      "검색된 자료는 96은  9번째에 있음 , count 10\n"
     ]
    }
   ],
   "source": [
    "#  검색 하고자 하는 숫자 입력\n",
    "find_data = int(input('검색 하고자 하는 숫자 입력 > '))\n",
    "pos, count = seqSearch(array_sort, find_data)\n",
    "if pos == -1:\n",
    "    print(\"검색된 자료 없음\")\n",
    "else:\n",
    "    print(\"검색된 자료는 {}은  {}번째에 있음 , count {}\".format(find_data, pos, count))"
   ]
  },
  {
   "cell_type": "code",
   "execution_count": 56,
   "id": "875202ff",
   "metadata": {},
   "outputs": [],
   "source": [
    "def binSearch(array, f_data):\n",
    "    start = 0\n",
    "    end = len(array) - 1\n",
    "    while start <= end:\n",
    "        mid = ( start + end ) // 2        \n",
    "        if array[mid] == f_data:\n",
    "            return mid\n",
    "        elif array[mid] < f_data:\n",
    "            start = mid + 1   # 중앙값 뒤의 자료만 검색\n",
    "        else:\n",
    "            end = mid - 1\n",
    "    return -1"
   ]
  },
  {
   "cell_type": "code",
   "execution_count": 57,
   "id": "e5e52ca9",
   "metadata": {},
   "outputs": [
    {
     "name": "stdout",
     "output_type": "stream",
     "text": [
      "[4, 8, 52, 53, 75, 77, 82, 85, 87, 99]\n",
      "검색 하고자 하는 숫자 입력 > 8\n",
      "검색된 자료는 8은  1번째에 있음 ,\n"
     ]
    }
   ],
   "source": [
    "print(array_sort)\n",
    "find_data = int(input('검색 하고자 하는 숫자 입력 > '))\n",
    "pos = binSearch(array_sort, find_data)\n",
    "if pos == -1:\n",
    "    print(\"검색된 자료 없음\")\n",
    "else:\n",
    "    print(\"검색된 자료는 {}은  {}번째에 있음 ,\".format(find_data, pos))"
   ]
  },
  {
   "cell_type": "code",
   "execution_count": 109,
   "id": "9fd81a2c",
   "metadata": {},
   "outputs": [
    {
     "name": "stdout",
     "output_type": "stream",
     "text": [
      "74802 True\n",
      "검색된 자료는 74613 위치에 있음 17회 검색\n",
      "\n",
      "검색된 자료 없음 17회 검색\n"
     ]
    }
   ],
   "source": [
    "# 문 0과 100000 사이의 숫자 100000개를 생성한 후 0과 100000 사이의 수 하나를\n",
    "# 랜덤하게 뽑아서 찾도록 코드를 작성. 또 몇 번 반복서 검색에 성공하거나 실패했는지 확인\n",
    "def binSearch_cnt(array, f_data):\n",
    "    start = 0\n",
    "    end = len(array) - 1\n",
    "    count = 0\n",
    "    while start <= end:\n",
    "        count += 1\n",
    "        mid = ( start + end ) // 2        \n",
    "        if array[mid] == f_data:\n",
    "            return mid, count\n",
    "        elif array[mid] < f_data:\n",
    "            start = mid + 1   # 중앙값 뒤의 자료만 검색\n",
    "        else:\n",
    "            end = mid - 1\n",
    "    return -1, count\n",
    "\n",
    "arr = [ random.randrange(0, 100000) for _ in range(100000)]\n",
    "arr.sort()\n",
    "f_data = random.choice(arr)\n",
    "print(f_data, f_data in arr)\n",
    "\n",
    "pos, cnt = binSearch_cnt(arr, f_data)\n",
    "if pos == -1:\n",
    "    print(f'검색된 자료 없음 { cnt }회 검색')\n",
    "else:\n",
    "    print(f'검색된 자료는 {pos} 위치에 있음 {cnt}회 검색')\n",
    "print()\n",
    "pos, cnt = binSearch_cnt(arr,344445)\n",
    "if pos == -1:\n",
    "    print(f'검색된 자료 없음 { cnt }회 검색')\n",
    "else:\n",
    "    print(f'검색된 자료는 {pos} 위치에 있음 {cnt}회 검색')"
   ]
  },
  {
   "cell_type": "code",
   "execution_count": null,
   "id": "5b166b77",
   "metadata": {},
   "outputs": [],
   "source": [
    "# 1. 이름과 국어, 영어 성적을 입력받아 리스트에 저장 ( 이름에 아무런 값도 입력되지 않으면 입력 종료)\n",
    "# 2. 정렬하고자 하는 아이템 입력 ( 1:이름, 2:국어, 3:영어 )\n",
    "# 3. 2에 입력받은 자료를 기준으로 정렬\n",
    "# 4. 3의 자료를 가지고 검색 ( 1이면 이름을 입력받아 몇 번째 자료인지 출력, 학생의 정보 출력 )\n",
    "# 4. 3의 자료를 가지고 검색 ( 2 또는 3이면  성적을 입력 받아 해당 성적을 받은 학생의 등수와 정보 출력 )"
   ]
  },
  {
   "cell_type": "code",
   "execution_count": 187,
   "id": "8a608668",
   "metadata": {},
   "outputs": [],
   "source": [
    "def input_data():\n",
    "    global students\n",
    "    while True:\n",
    "        input_data = input(\"이름 국어 영어 성적 입력 : \")\n",
    "        if not input_data:\n",
    "            return\n",
    "        name, kor, eng = input_data.split()\n",
    "        kor = int(kor)\n",
    "        eng = int(eng)\n",
    "        students.append([name, kor, eng])\n",
    "\n",
    "def sort_data(array, sort_key, start, end):\n",
    "    if end <= start:\n",
    "        return   \n",
    "    low = start; \n",
    "    high = end\n",
    "    pivot = array[ (low+high)//2 ][sort_key]\n",
    "    while low <= high:\n",
    "        while array[low][sort_key] < pivot:\n",
    "            low += 1\n",
    "        while array[high][sort_key] > pivot:\n",
    "            high -= 1\n",
    "        if low <= high:\n",
    "            array[low], array[high] = array[high],array[low]\n",
    "            low += 1; high -= 1\n",
    "    mid = low\n",
    "    sort_data(array, sort_key, start, mid - 1)  # left\n",
    "    sort_data(array, sort_key, mid, end)  # left    \n",
    "    \n",
    "def search_data(array, f_data, sort_key):\n",
    "    start = 0\n",
    "    end = len(array) - 1\n",
    "    count = 0\n",
    "    while start <= end:\n",
    "        count += 1\n",
    "        mid = ( start + end ) // 2       \n",
    "        if array[mid][sort_key] == f_data:\n",
    "            return mid, count\n",
    "        elif array[mid][sort_key] < f_data:\n",
    "            start = mid + 1   # 중앙값 뒤의 자료만 검색\n",
    "        else:\n",
    "            end = mid - 1\n",
    "    return -1, count    "
   ]
  },
  {
   "cell_type": "code",
   "execution_count": 169,
   "id": "a49d0370",
   "metadata": {},
   "outputs": [
    {
     "name": "stdout",
     "output_type": "stream",
     "text": [
      "이름 국어 영어 성적 입력 : bb 88 99\n",
      "이름 국어 영어 성적 입력 : cc 99 70\n",
      "이름 국어 영어 성적 입력 : dd 99 80\n",
      "이름 국어 영어 성적 입력 : aa 90 80\n",
      "이름 국어 영어 성적 입력 : \n"
     ]
    }
   ],
   "source": [
    "students = []\n",
    "input_data()   # 자료 입력"
   ]
  },
  {
   "cell_type": "code",
   "execution_count": 170,
   "id": "761cbc5a",
   "metadata": {},
   "outputs": [
    {
     "name": "stdout",
     "output_type": "stream",
     "text": [
      "[['bb', 88, 99], ['cc', 99, 70], ['dd', 99, 80], ['aa', 90, 80]]\n"
     ]
    }
   ],
   "source": [
    "print(students)"
   ]
  },
  {
   "cell_type": "code",
   "execution_count": 133,
   "id": "5bae5fb7",
   "metadata": {},
   "outputs": [
    {
     "data": {
      "text/plain": [
       "[['cc', 100, 90], ['dd', 66, 77], ['ff', 99, 88], ['rr', 90, 80]]"
      ]
     },
     "execution_count": 133,
     "metadata": {},
     "output_type": "execute_result"
    }
   ],
   "source": [
    "from operator import itemgetter\n",
    "sorted(students, key=itemgetter(0))"
   ]
  },
  {
   "cell_type": "code",
   "execution_count": 210,
   "id": "09021a18",
   "metadata": {},
   "outputs": [
    {
     "data": {
      "text/plain": [
       "[['cc', 99, 70], ['dd', 99, 80], ['aa', 90, 80], ['bb', 88, 99]]"
      ]
     },
     "execution_count": 210,
     "metadata": {},
     "output_type": "execute_result"
    }
   ],
   "source": [
    " sorted(students, key=lambda x: x[1])"
   ]
  },
  {
   "cell_type": "code",
   "execution_count": 212,
   "id": "1403cd31",
   "metadata": {},
   "outputs": [
    {
     "name": "stdout",
     "output_type": "stream",
     "text": [
      "정렬할 키를 입력 1:이름 2:국어 3:영어 > 2\n",
      "[['bb', 88, 99], ['aa', 90, 80], ['cc', 99, 70], ['dd', 99, 80]]\n"
     ]
    }
   ],
   "source": [
    "sort_key = input(\"정렬할 키를 입력 1:이름 2:국어 3:영어 > \")\n",
    "# sort_students = sorted(students, key=itemgetter(int(sort_key)-1))\n",
    "# sort_students = sorted(students, key=lambda x: x[int(sort_key)-1])\n",
    "# sort_students = students.copy()\n",
    "\n",
    "sort_data(sort_students, int(sort_key) -1 , 0, len(students)-1)\n",
    "print(sort_students)"
   ]
  },
  {
   "cell_type": "code",
   "execution_count": 198,
   "id": "651e97d2",
   "metadata": {},
   "outputs": [
    {
     "data": {
      "text/plain": [
       "[['aa', 90, 80], ['bb', 88, 99], ['cc', 99, 70], ['dd', 99, 80]]"
      ]
     },
     "execution_count": 198,
     "metadata": {},
     "output_type": "execute_result"
    }
   ],
   "source": [
    "arr_1  = students.copy()\n",
    "sorted(arr_1, key=lambda x :arr_1[0] )"
   ]
  },
  {
   "cell_type": "code",
   "execution_count": 191,
   "id": "674a7b5a",
   "metadata": {},
   "outputs": [
    {
     "name": "stdout",
     "output_type": "stream",
     "text": [
      " 검색할 자료 입력 : 88\n",
      "검색된 자료는 sort_students[name] : sort_students[kor], sort_students[kor]  4 등,  2회 검색 \n"
     ]
    }
   ],
   "source": [
    "find_data = input(\" 검색할 자료 입력 : \")\n",
    "if sort_key in '23':\n",
    "    find_data = int(find_data)\n",
    "    \n",
    "pos , count = search_data(sort_students,find_data, int(sort_key)-1)\n",
    "if pos == -1:\n",
    "    print(f'검색된 자료 없음 {count }회 검색')\n",
    "else:\n",
    "    output = f'sort_students[name] : sort_students[kor], sort_students[kor]'\n",
    "    if sort_key != '1':\n",
    "        output += f'  { len(students) - pos} 등'\n",
    "    print(f'검색된 자료는 {output},  {count}회 검색 ')"
   ]
  },
  {
   "cell_type": "code",
   "execution_count": 175,
   "id": "acafd805",
   "metadata": {},
   "outputs": [
    {
     "name": "stdout",
     "output_type": "stream",
     "text": [
      "[['aa', 90, 80], ['bb', 88, 99], ['cc', 99, 70], ['dd', 99, 80]]\n"
     ]
    }
   ],
   "source": [
    "from operator import itemgetter\n",
    "\n",
    "print(students)\n",
    "\n",
    "sorted(students, key=itemgetter(2))"
   ]
  },
  {
   "cell_type": "code",
   "execution_count": 214,
   "id": "dbde1d16",
   "metadata": {},
   "outputs": [
    {
     "data": {
      "text/plain": [
       "[('dave', 'A', 10), ('jane', 'B', 12), ('john', 'A', 15)]"
      ]
     },
     "execution_count": 214,
     "metadata": {},
     "output_type": "execute_result"
    }
   ],
   "source": [
    "## sorted() 내장함수를 활용 -> 간단하게 구현\n",
    "arr = [ ('john', 'A', 15), ('jane', 'B', 12),('dave', 'A', 10)]\n",
    "\n",
    "sorted(arr, key=lambda a:a[1])  #  정렬된 리스트를 반환\n",
    "sorted(arr, key=lambda a:a[0])"
   ]
  },
  {
   "cell_type": "code",
   "execution_count": null,
   "id": "1686d2ae",
   "metadata": {},
   "outputs": [],
   "source": [
    "# list.sort()  ->  원 데이터 리스트를 수정"
   ]
  },
  {
   "cell_type": "code",
   "execution_count": 216,
   "id": "606f4180",
   "metadata": {},
   "outputs": [
    {
     "data": {
      "text/plain": [
       "[['bb', 88, 99], ['aa', 90, 80], ['cc', 99, 70], ['dd', 99, 80]]"
      ]
     },
     "execution_count": 216,
     "metadata": {},
     "output_type": "execute_result"
    }
   ],
   "source": [
    "sorted(students, key= lambda student: student[int(sort_key) - 1])"
   ]
  },
  {
   "cell_type": "code",
   "execution_count": 225,
   "id": "9ebddc41",
   "metadata": {},
   "outputs": [],
   "source": [
    "# class  로 정의 \n",
    "class Student:\n",
    "    def __init__(self, name, kor, eng):\n",
    "        self.name = name\n",
    "        self.kor = kor\n",
    "        self.eng = eng\n",
    "    def __repr__(self):\n",
    "        return repr((self.name, self.kor, self.eng))\n",
    "    def __str__(self):\n",
    "        return f'{self.name}, {self.kor}, {self.eng}'"
   ]
  },
  {
   "cell_type": "code",
   "execution_count": 227,
   "id": "3ddce030",
   "metadata": {},
   "outputs": [
    {
     "name": "stdout",
     "output_type": "stream",
     "text": [
      "bb, 88, 99\n"
     ]
    },
    {
     "data": {
      "text/plain": [
       "('bb', 88, 99)"
      ]
     },
     "execution_count": 227,
     "metadata": {},
     "output_type": "execute_result"
    }
   ],
   "source": [
    "a = Student('bb', 88, 99)\n",
    "a\n",
    "print(a)\n",
    "a"
   ]
  },
  {
   "cell_type": "code",
   "execution_count": null,
   "id": "0624a994",
   "metadata": {},
   "outputs": [],
   "source": [
    "# 문) 1. 책장 배열을 정의한다\n",
    "bookAry = [ ['어린왕자', '쌩떽쥐베리'],['이방인', '까뮈'], ['부활', '톨스토이'],\n",
    "            ['신곡', '단테'], ['돈키호테', '세브반테스'], ['동물농장', '조지오웰'],\n",
    "            ['데미안','헤르만헤세'], ['파우스트', '괴테'], ['대지', '펄벅'] ]\n",
    "# => class 자료로 변경\n",
    "# 2. 도서명만 추출, 도서명 옆에 책의 순번(책장의 위치)를 출력\n",
    "#    ->   make_idx_auth(), make_idx_book()\n",
    "# 3. 도서명을 기준으로 색인표 정렬 ->  sorted()   함수를 활용하여 0번째 열인\n",
    "#    도서명 열을 기준으로 정렬  -> sorted() ->  정렬된 자료 리스트 반환"
   ]
  },
  {
   "cell_type": "code",
   "execution_count": 265,
   "id": "2adbfb90",
   "metadata": {},
   "outputs": [],
   "source": [
    "# 작가명으로 색인표 생성 및 출력 ->  각각의 데이터는  class로\n",
    "class Book:    \n",
    "    def __init__(self, title, auth):\n",
    "        self.auth = auth\n",
    "        self.title = title        \n",
    "    def __repr__(self):\n",
    "        return repr((self.title, self.auth))\n",
    "    \n",
    "def make_idx(bookAry):\n",
    "    books = []\n",
    "    for book in bookAry:\n",
    "        books.append(Book(book[0], book[1]))\n",
    "    return books\n",
    "\n",
    "def search_book(array, f_data):\n",
    "    start = 0\n",
    "    end = len(array) - 1\n",
    "    while start <= end:\n",
    "        mid = ( start + end ) // 2       \n",
    "        if array[mid].title == f_data:\n",
    "            return mid\n",
    "        elif array[mid].title < f_data:\n",
    "            start = mid + 1   # 중앙값 뒤의 자료만 검색\n",
    "        else:\n",
    "            end = mid - 1\n",
    "    return -1 \n",
    "\n",
    "def print_books(books, sw=None):\n",
    "    print()   \n",
    "    if sw:\n",
    "        print(\"----  정렬된 색인표를 생성한 책장 ---- \")\n",
    "    else:\n",
    "        print(\"---- 색인표를 생성한 책장 ---- \")\n",
    "    for idx, book in enumerate(books):     # 인덱스 생성된 책장 정보 출력\n",
    "        print(f'{idx} : {repr(book)}')\n"
   ]
  },
  {
   "cell_type": "code",
   "execution_count": null,
   "id": "6bb4fe06",
   "metadata": {},
   "outputs": [],
   "source": [
    "bookAry = [ ['어린왕자', '쌩떽쥐베리'],['이방인', '까뮈'], ['부활', '톨스토이'],\n",
    "            ['신곡', '단테'], ['돈키호테', '세브반테스'], ['동물농장', '조지오웰'],\n",
    "            ['데미안','헤르만헤세'], ['파우스트', '괴테'], ['대지', '펄벅'] ]\n",
    "books = make_idx(bookAry)    #  책장 인덱스 생성\n",
    "print_books(books)\n",
    "\n",
    "# 도서명을 기준으로 색인표 정렬\n",
    "sort_book_list = sorted(books,key=lambda book: book.title )   # 도서명을 기준으로 정렬\n",
    "\n",
    "print_books(sort_book_list, sw=True)   #  정렬된 자료 출력\n",
    "# 검색하고자 하는 도서명을 입력 -> 결과 출력\n",
    "f_title = input(\"검색 하고자 하는 도서명 입력 -> \")\n",
    "pos = search_book(sort_book_list, f_title)   # 검색된 위치 반환\n",
    "if pos == -1:\n",
    "    print(\"검색할 자료 없음 \")\n",
    "else:\n",
    "    print(\"{} 번째 위치한 책의 정보 {}\".format(pos, repr(sort_book_list[pos])))"
   ]
  },
  {
   "cell_type": "code",
   "execution_count": 266,
   "id": "454a0c1d",
   "metadata": {},
   "outputs": [
    {
     "name": "stdout",
     "output_type": "stream",
     "text": [
      "\n",
      "---- 색인표를 생성한 책장 ---- \n",
      "0 : ('어린왕자', '쌩떽쥐베리')\n",
      "1 : ('이방인', '까뮈')\n",
      "2 : ('부활', '톨스토이')\n",
      "3 : ('신곡', '단테')\n",
      "4 : ('돈키호테', '세브반테스')\n",
      "5 : ('동물농장', '조지오웰')\n",
      "6 : ('데미안', '헤르만헤세')\n",
      "7 : ('파우스트', '괴테')\n",
      "8 : ('대지', '펄벅')\n",
      "\n",
      "----  정렬된 색인표를 생성한 책장 ---- \n",
      "0 : ('대지', '펄벅')\n",
      "1 : ('데미안', '헤르만헤세')\n",
      "2 : ('돈키호테', '세브반테스')\n",
      "3 : ('동물농장', '조지오웰')\n",
      "4 : ('부활', '톨스토이')\n",
      "5 : ('신곡', '단테')\n",
      "6 : ('어린왕자', '쌩떽쥐베리')\n",
      "7 : ('이방인', '까뮈')\n",
      "8 : ('파우스트', '괴테')\n",
      "검색 하고자 하는 도서명 입력 -> 대지\n",
      "0 번째 위치한 책의 정보 ('대지', '펄벅')\n"
     ]
    }
   ],
   "source": []
  }
 ],
 "metadata": {
  "kernelspec": {
   "display_name": "Python 3 (ipykernel)",
   "language": "python",
   "name": "python3"
  },
  "language_info": {
   "codemirror_mode": {
    "name": "ipython",
    "version": 3
   },
   "file_extension": ".py",
   "mimetype": "text/x-python",
   "name": "python",
   "nbconvert_exporter": "python",
   "pygments_lexer": "ipython3",
   "version": "3.9.13"
  }
 },
 "nbformat": 4,
 "nbformat_minor": 5
}
