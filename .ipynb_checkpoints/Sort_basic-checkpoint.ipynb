{
 "cells": [
  {
   "cell_type": "code",
   "execution_count": 3,
   "id": "c41dfe02",
   "metadata": {},
   "outputs": [
    {
     "name": "stdout",
     "output_type": "stream",
     "text": [
      "가장 작은 값의 위치 : 4, 가장 작은 값 :7\n",
      "가장 큰 값의 위치 : 2, 가장 큰 값 :88\n"
     ]
    }
   ],
   "source": [
    "# 가장 최소값의 위치 반환 함수 정의\n",
    "def min_func(array):\n",
    "    min_idx = 0\n",
    "    for i in range(1, len(array)):\n",
    "        if array[min_idx] > array[i]:\n",
    "            min_idx = i\n",
    "    return min_idx\n",
    "\n",
    "# 가장 큰값의 위치 반환 함수 정의\n",
    "def max_func(array):\n",
    "    max_idx = 0\n",
    "    for i in range(1, len(array)):\n",
    "        if array[max_idx] < array[i]:\n",
    "            max_idx = i\n",
    "    return max_idx\n",
    "\n",
    "test_arr = [55,11,88,33,7, 9 ]\n",
    "min_idx = min_func(test_arr)\n",
    "print(\"가장 작은 값의 위치 : {}, 가장 작은 값 :{}\".format(min_idx, test_arr[min_idx]))\n",
    "max_idx = max_func(test_arr)\n",
    "print(\"가장 큰 값의 위치 : {}, 가장 큰 값 :{}\".format(max_idx, test_arr[max_idx]))"
   ]
  },
  {
   "cell_type": "code",
   "execution_count": null,
   "id": "56062aaa",
   "metadata": {},
   "outputs": [],
   "source": [
    "def min_func(array):\n",
    "    min_idx = 0\n",
    "    for i in range(1, len(array)):\n",
    "        if array[min_idx] > array[i]:\n",
    "            min_idx = i\n",
    "    return min_idx\n",
    "\n",
    "test_arr = [55,11,88,33,7, 9 ]\n",
    "result = []\n",
    "print(\" 정렬 전 -> \",test_arr)\n",
    "for _ in range(len(test_arr)):\n",
    "    min_idx = min_func(test_arr)\n",
    "    result.append(test_arr[min_idx])  # 새로운 배열에 최소값 추가\n",
    "    del test_arr[min_idx]\n",
    "    \n",
    "print(\" 정렬 후 -> \",result)"
   ]
  },
  {
   "cell_type": "code",
   "execution_count": null,
   "id": "8c54695b",
   "metadata": {},
   "outputs": [],
   "source": [
    "# selection sort   함수 정의\n",
    "def selection_sort(array, reverse=False):\n",
    "    n = len(array)\n",
    "    for i in range(n-1):   # 정렬 횟수\n",
    "        idx = i \n",
    "        for j in range(i+1, n):   #  최소값의 위치 검색\n",
    "            if reverse:     #  내림차순 정렬\n",
    "                if array[idx] < array[j]:\n",
    "                    idx = j\n",
    "            else:          # 오름차순 정렬\n",
    "                if array[idx]  > array[j]:\n",
    "                    idx = j\n",
    "        if idx != i:\n",
    "            array[idx], array[i] = array[i], array[idx]  # 최소값을 i의 값과 교환\n",
    "    return array\n",
    "\n",
    "test_array = [188,162,88,50,70,200]\n",
    "print(\"정렬 전 -> \",test_array)\n",
    "test_array = selection_sort(test_array)\n",
    "print(\"정렬 후 -> \",test_array)\n",
    "test_array = selection_sort(test_array,reverse=True)  # 내림차순 정렬\n",
    "print(\"정렬 후 -> \",test_array)"
   ]
  },
  {
   "cell_type": "code",
   "execution_count": null,
   "id": "452328fa",
   "metadata": {},
   "outputs": [],
   "source": [
    "# insert할 위치 반환 함수 정의\n",
    "def find_insert_idx(array, data):\n",
    "    idx = -1    # 데이터가 없음 , 초기값\n",
    "    for i in range(len(array)):\n",
    "        if array[i] > data:\n",
    "            idx = i     #  삽입할 위치 \n",
    "            break\n",
    "    if idx == -1:\n",
    "        return 0\n",
    "    else:\n",
    "        return idx\n",
    "\n",
    "test_array = []\n",
    "ins_idx = find_insert_idx(test_array, 55)\n",
    "print(\"삽입할 위치 -> \", ins_idx)\n",
    "\n",
    "test_array = [33, 66, 88, 99]\n",
    "ins_idx = find_insert_idx(test_array, 55)\n",
    "print(\"삽입할 위치 -> \", ins_idx)"
   ]
  },
  {
   "cell_type": "code",
   "execution_count": null,
   "id": "e56efd32",
   "metadata": {},
   "outputs": [],
   "source": [
    "def find_insert_idx(array, data):\n",
    "    idx = -1    # 데이터가 없음 , 초기값\n",
    "    for i in range(len(array)):\n",
    "        if array[i] > data:\n",
    "            idx = i     #  삽입할 위치 \n",
    "            break\n",
    "    if idx == -1:\n",
    "        return len(array)\n",
    "    else:\n",
    "        return idx\n",
    "    \n",
    "test_array = [188,162,88,50,70,200]\n",
    "result = []\n",
    "print(\"정렬 전 -> \",test_array)\n",
    "for data in test_array:\n",
    "    idx = find_insert_idx(result, data)\n",
    "    result.insert(idx, data)\n",
    "print(\"정렬 후 -> \",result)"
   ]
  },
  {
   "cell_type": "code",
   "execution_count": 19,
   "id": "c6e54623",
   "metadata": {},
   "outputs": [
    {
     "name": "stdout",
     "output_type": "stream",
     "text": [
      "정렬 전 ->  [188, 162, 88, 50, 70, 200]\n",
      "정렬 후 ->  [50, 70, 88, 162, 188, 200]\n"
     ]
    }
   ],
   "source": [
    "# insertion sort를 개선한 함수 -> 배열 사용 안함\n",
    "def insertion_sort(array):\n",
    "    n = len(array)\n",
    "    for end in range(1, n):   #  정렬 횟수\n",
    "        for curr in range(end, 0, -1):\n",
    "            if array[curr] < array[curr - 1]:\n",
    "                array[curr], array[curr-1] = array[curr-1], array[curr]\n",
    "    return array\n",
    "\n",
    "test_array = [188,162,88,50,70,200]\n",
    "print(\"정렬 전 -> \",test_array)\n",
    "test_array = insertion_sort(test_array)\n",
    "print(\"정렬 후 -> \",result)"
   ]
  },
  {
   "cell_type": "code",
   "execution_count": 28,
   "id": "bffe7b64",
   "metadata": {},
   "outputs": [
    {
     "name": "stdout",
     "output_type": "stream",
     "text": [
      "정렬 전 ->  [['선미', 88], ['초아', 99], ['화사', 71], ['영탁', 78], ['영웅', 67], ['민호', 92]]\n",
      "정렬 후 ->  [['영웅', 67], ['화사', 71], ['영탁', 78], ['선미', 88], ['민호', 92], ['초아', 99]]\n",
      "\n",
      "--- 성적 최고점과 최저점을 순서대로 짝을 이룸 ----\n",
      "영웅  :  초아\n",
      "화사  :  민호\n",
      "영탁  :  선미\n"
     ]
    }
   ],
   "source": [
    "# 문) 성적순으로 정렬한 후 성적이 가장 높은 학생과 성적이 낮은 학생 순으로 조를 출력\n",
    "students = [['선미', 88], ['초아', 99], ['화사',71],['영탁',78],['영웅', 67], ['민호',92]]\n",
    "\n",
    "def insertion_sort(array):\n",
    "    n = len(array)\n",
    "    for end in range(1, n):   #  정렬 횟수\n",
    "        for curr in range(end, 0, -1):\n",
    "            if array[curr][1] < array[curr - 1][1]:\n",
    "                array[curr], array[curr-1] = array[curr-1], array[curr]\n",
    "    return array\n",
    "\n",
    "print(\"정렬 전 -> \",students)\n",
    "students = insertion_sort(students)\n",
    "print(\"정렬 후 -> \",students)\n",
    "print()\n",
    "print(\"--- 성적 최고점과 최저점을 순서대로 짝을 이룸 ----\")\n",
    "n = len(students)\n",
    "for i in range(n//2):\n",
    "    print(students[i][0], ' : ', students[n-i-1][0])"
   ]
  },
  {
   "cell_type": "code",
   "execution_count": 46,
   "id": "1c484e17",
   "metadata": {},
   "outputs": [
    {
     "name": "stdout",
     "output_type": "stream",
     "text": [
      "[1, 20, 23, 33, 38, 44, 47, 55, 76, 88, 99, 145, 155, 199, 222, 250]\n",
      "76\n"
     ]
    }
   ],
   "source": [
    "# 2차원 배열에서 중앙값을 찾음\n",
    "# 1. 2차원 배열을 1차원으로 평탄화\n",
    "# 2. 위의 결과를 가지고 정렬\n",
    "# 3. 중앙값 찾음\n",
    "def insertion_sort(array):\n",
    "    n = len(array)\n",
    "    for end in range(1, n):   #  정렬 횟수\n",
    "        for curr in range(end, 0, -1):\n",
    "            if array[curr] < array[curr - 1]:\n",
    "                array[curr], array[curr-1] = array[curr-1], array[curr]\n",
    "    return array\n",
    "\n",
    "list_arr = [[55,33,250,44], [88,1,76,23], [199,222,38,47], [155,145,20,99]]\n",
    "list_result = [  ar for arr in list_arr for ar in arr  ]\n",
    "# list_result = []\n",
    "# for arr in list_arr:\n",
    "# #     list_result += *arr  \n",
    "#     list_result.extend(arr)\n",
    "list_result = insertion_sort(list_result)\n",
    "print(list_result)\n",
    "\n",
    "n = len(list_result)\n",
    "print(list_result[len(list_result)//2])"
   ]
  },
  {
   "cell_type": "code",
   "execution_count": null,
   "id": "b1092733",
   "metadata": {},
   "outputs": [],
   "source": [
    "# bubble sort : 현재와 뒤의 자료를 비교한 후 가장 큰 값이 제일 뒤로 이동됨\n",
    "def bubble_sort(array):\n",
    "    n = len(array)\n",
    "    for end in range(n-1, 0, -1):   #  정렬 횟수\n",
    "        sw = False   #   정렬이 이루어졌는지 확인\n",
    "        for curr in range(0,end):\n",
    "            if array[curr] > array[curr + 1]:\n",
    "                sw = True\n",
    "                array[curr], array[curr + 1] = array[curr + 1], array[curr]\n",
    "#         if sw == False:\n",
    "        if not sw:            \n",
    "            break\n",
    "    return array\n",
    "\n",
    "test_array = [188,162,88,50,70,200]\n",
    "print(\"정렬 전 -> \",test_array)\n",
    "test_array = bubble_sort(test_array)\n",
    "print(\"정렬 후 -> \",result)"
   ]
  },
  {
   "cell_type": "code",
   "execution_count": 76,
   "id": "4406622a",
   "metadata": {},
   "outputs": [
    {
     "name": "stdout",
     "output_type": "stream",
     "text": [
      " bubble_sort before ->  [107, 163, 111, 196, 15, 157, 95, 152, 51, 190, 55, 145, 59, 48, 67, 57, 73, 190, 68, 154]\n",
      " bubble_sort after ->  103 [15, 48, 51, 55, 57, 59, 67, 68, 73, 95, 107, 111, 145, 152, 154, 157, 163, 190, 190, 196]\n"
     ]
    }
   ],
   "source": [
    "# 문) 0부터 200까지의 수 중에서 랜덤하게 숫자 20개를 생성한 후 내림차순으로 정렬\n",
    "#  정렬 결과와 정렬을 수행한 횟수도 출력\n",
    "import random\n",
    "def bubble_sort(array):\n",
    "    n = len(array)\n",
    "    cnt = 0\n",
    "    for end in range(n-1, 0, -1):   #  정렬 횟수\n",
    "        sw = False   #   정렬이 이루어졌는지 확인\n",
    "        for curr in range(0,end):\n",
    "            if array[curr] > array[curr + 1]:\n",
    "                sw = True\n",
    "                cnt += 1\n",
    "                array[curr], array[curr + 1] = array[curr + 1], array[curr]\n",
    "        if not sw:            \n",
    "            break\n",
    "    return array, cnt\n",
    "\n",
    "list_arr = [ random.randrange(0,200) for _ in range(20) ]\n",
    "print(\" bubble_sort before -> \",list_arr)\n",
    "list_arr, cnt = bubble_sort(list_arr)\n",
    "print(\" bubble_sort after -> \",cnt,list_arr)"
   ]
  },
  {
   "cell_type": "code",
   "execution_count": 78,
   "id": "996cdc95",
   "metadata": {},
   "outputs": [
    {
     "name": "stdout",
     "output_type": "stream",
     "text": [
      "정렬 전 ->  [188, 162, 88, 50, 70, 200]\n",
      "정렬 후 ->  [50, 70, 88, 162, 188, 200]\n"
     ]
    }
   ],
   "source": [
    "# quick sort : 중간값을 지정한 후 중간값보다 작으면 왼쪽 리스트에, 크면 오른쪽 리스트에 \n",
    "# list 의 갯수가 1일때 까지 반복(재귀함수 사용)\n",
    "def quick_sort(array):\n",
    "    n = len(array)    # 리스트의 길이 구함\n",
    "    if n <= 1:   #  재귀함수 탈출 조건\n",
    "        return array\n",
    "    pivot = array[ n // 2]  #  기준 값을 중간값 지정\n",
    "    left_array, right_array = [], []\n",
    "    \n",
    "    for num in array:\n",
    "        if num < pivot:\n",
    "            left_array.append(num)\n",
    "        elif num > pivot:\n",
    "            right_array.append(num)\n",
    "            \n",
    "    return quick_sort(left_array) + [pivot] + quick_sort(right_array)\n",
    "\n",
    "test_array = [188,162,88,50,70,200]\n",
    "print(\"정렬 전 -> \",test_array)\n",
    "test_array = quick_sort(test_array)\n",
    "print(\"정렬 후 -> \",result)"
   ]
  },
  {
   "cell_type": "code",
   "execution_count": null,
   "id": "24098b63",
   "metadata": {},
   "outputs": [],
   "source": [
    "# 문) 0부터 200까지의 수 중에서 랜덤하게 숫자 20개를 생성한 후 내림차순으로 정렬\n",
    "#  정렬 결과와 정렬을 수행한 횟수도 출력, quick_sort를 사용\n",
    "def quick_sort_cnt(array):\n",
    "    global cnt\n",
    "    n = len(array)    # 리스트의 길이 구함\n",
    "    if n <= 1:   #  재귀함수 탈출 조건\n",
    "        return array\n",
    "    pivot = array[ n // 2]  #  기준 값을 중간값 지정\n",
    "    left_array, right_array = [], []\n",
    "\n",
    "    for num in array:\n",
    "        cnt += 1\n",
    "        if num < pivot:\n",
    "            left_array.append(num)\n",
    "        elif num > pivot:\n",
    "            right_array.append(num)\n",
    "            \n",
    "    return quick_sort(left_array) + [pivot] + quick_sort(right_array)\n",
    "\n",
    "cnt = 0\n",
    "list_arr = [ random.randrange(0,200) for _ in range(20) ]\n",
    "print(\" quick_sort before -> \",list_arr)\n",
    "list_arr = quick_sort_cnt(list_arr)\n",
    "print(\" quick_sort after -> \",cnt, list_arr)"
   ]
  },
  {
   "cell_type": "code",
   "execution_count": null,
   "id": "3946cc09",
   "metadata": {},
   "outputs": [],
   "source": [
    "#  중복 값을 고려한 퀵 정렬\n",
    "def quick_sort_dup(array):\n",
    "    n = len(array)    # 리스트의 길이 구함\n",
    "    if n <= 1:   #  재귀함수 탈출 조건\n",
    "        return array\n",
    "    pivot = array[ n // 2]  #  기준 값을 중간값 지정\n",
    "    left_array, mid_array, right_array = [], [], []\n",
    "\n",
    "    for num in array:\n",
    "        if num < pivot:\n",
    "            left_array.append(num)\n",
    "        elif num > pivot:\n",
    "            right_array.append(num)\n",
    "        else:\n",
    "            mid_array.append(num)\n",
    "            \n",
    "    return quick_sort_dup(left_array) + mid_array + quick_sort_dup(right_array)\n",
    "\n",
    "\n",
    "list_arr = [ random.randrange(0,200) for _ in range(20) ]\n",
    "# list_arr += [ random.randrange(0,200) for _ in range(10) ]\n",
    "print(\" quick_sort_dup before -> \",list_arr)\n",
    "list_arr = quick_sort_dup(list_arr)\n",
    "print(\" quick_sort_dup after -> \", list_arr)"
   ]
  },
  {
   "cell_type": "code",
   "execution_count": 181,
   "id": "13c3c074",
   "metadata": {},
   "outputs": [
    {
     "name": "stdout",
     "output_type": "stream",
     "text": [
      " quick_sort_dup before ->  [120, 94, 54, 198, 169, 132, 61, 103, 5, 119]\n",
      " quick_sort_dup after ->  [5, 54, 61, 94, 103, 119, 120, 132, 169, 198]\n"
     ]
    }
   ],
   "source": [
    "# 추가의 배열을 사용하지 않고 값을 교환하면서 정렬 진행\n",
    "def Qsort(array, start, end):\n",
    "    if end <= start:\n",
    "        return\n",
    "    low = start\n",
    "    high =end\n",
    "    pivot = array[(low + high) // 2]   # 기준값 <- 중간값으로 설정\n",
    "    while low <= high:\n",
    "        while array[low] < pivot: # pivot 보다 low의 값이 작으면 low 증가시킴\n",
    "            low += 1\n",
    "        while array[high] > pivot: # pivot 보다 high의 값이 크면 high 감소시킴\n",
    "            high -= 1\n",
    "        if low <= high:\n",
    "            array[low], array[high] = array[high], array[low]\n",
    "            low += 1\n",
    "            high -= 1\n",
    "    mid = low\n",
    "    Qsort(array, start, mid-1)\n",
    "    Qsort(array, mid, end)\n",
    "list_arr = [ random.randrange(0,200) for _ in range(10) ]\n",
    "print(\" quick_sort_dup before -> \",list_arr)\n",
    "Qsort(list_arr, 0, len(list_arr)-1)\n",
    "print(\" quick_sort_dup after -> \", list_arr)        "
   ]
  }
 ],
 "metadata": {
  "kernelspec": {
   "display_name": "Python 3 (ipykernel)",
   "language": "python",
   "name": "python3"
  },
  "language_info": {
   "codemirror_mode": {
    "name": "ipython",
    "version": 3
   },
   "file_extension": ".py",
   "mimetype": "text/x-python",
   "name": "python",
   "nbconvert_exporter": "python",
   "pygments_lexer": "ipython3",
   "version": "3.9.13"
  }
 },
 "nbformat": 4,
 "nbformat_minor": 5
}
