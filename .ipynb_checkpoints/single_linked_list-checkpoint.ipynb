{
 "cells": [
  {
   "cell_type": "markdown",
   "id": "d2fee6d2",
   "metadata": {},
   "source": [
    "## single_linked_list"
   ]
  },
  {
   "cell_type": "code",
   "execution_count": null,
   "id": "b223f733",
   "metadata": {},
   "outputs": [],
   "source": [
    "# 데이터가 5개인 단순 연결 리스트\n",
    "# katok = ['다현', '정연', '쯔위', '사나', '지효']\n",
    "class Node:\n",
    "    def __init__(self):\n",
    "        self.data = None\n",
    "        self.link = None\n",
    "\n",
    "node1 = Node()   # node1.data <- None,   node1.link <- None\n",
    "node1.data = '다현'\n",
    "node2 = Node()\n",
    "node2.data = '정연'\n",
    "node1.link = node2   # node1 의 다음 자료는 node2\n",
    "node3 = Node()\n",
    "node3.data = '쯔위'\n",
    "node2.link = node3  # node2 의 다음 자료는 node3\n",
    "print(\"node1 : \", node1.data)\n",
    "print(\"node2 : \", node1.link.data)\n",
    "print(\"node3 : \", node1.link.link.data)"
   ]
  },
  {
   "cell_type": "code",
   "execution_count": null,
   "id": "12979298",
   "metadata": {},
   "outputs": [],
   "source": [
    "node = node1\n",
    "while node.link != None:   # node.link의 값이 존재하면 -> 다음 자료가 있으면\n",
    "    print(node.data)\n",
    "    node = node.link\n",
    "print(node.data)  # 마지막 자료 출력\n",
    "print()\n",
    "node = node1\n",
    "while True:   # node.link의 값이 존재하면 -> 다음 자료가 있으면\n",
    "    print(node.data)\n",
    "    if node.link == None:\n",
    "        break\n",
    "    node = node.link\n",
    "    \n",
    "# print(node.data)  # 마지막 자료 출력"
   ]
  },
  {
   "cell_type": "code",
   "execution_count": 20,
   "id": "f30054d7",
   "metadata": {},
   "outputs": [],
   "source": [
    "class Node:\n",
    "    def __init__(self):\n",
    "        self.data = None\n",
    "        self.link = None\n",
    "\n",
    "def add_node(new_node):   # 마지막에 데이터 추가\n",
    "    global head\n",
    "    if head == None:   # 처음 node인 경우\n",
    "        head = new_node\n",
    "        return\n",
    "    node = head    # 처음  node  지정\n",
    "    while node.link:\n",
    "        node = node.link\n",
    "    node.link = new_node    \n",
    "\n",
    "def print_node():\n",
    "    node = head\n",
    "    while node:\n",
    "        output = node.data\n",
    "        node = node.link\n",
    "        if node:\n",
    "            output += ' -> '\n",
    "        print(output,end='')            "
   ]
  },
  {
   "cell_type": "code",
   "execution_count": 4,
   "id": "6fd21f7f",
   "metadata": {},
   "outputs": [
    {
     "name": "stdout",
     "output_type": "stream",
     "text": [
      "추가할 이름 입력 : 다현\n",
      "추가할 이름 입력 : 정연\n",
      "추가할 이름 입력 : 쯔위\n",
      "추가할 이름 입력 : \n",
      "다현->정연->쯔위->\n"
     ]
    }
   ],
   "source": [
    "head = None \n",
    "while True:\n",
    "    data = input(\"추가할 이름 입력 : \")\n",
    "    if not data:\n",
    "        break\n",
    "    \n",
    "    node = Node()\n",
    "    node.data = data\n",
    "    add_node(node)\n",
    "print_node()"
   ]
  },
  {
   "cell_type": "code",
   "execution_count": 21,
   "id": "b60b9afa",
   "metadata": {},
   "outputs": [
    {
     "name": "stdout",
     "output_type": "stream",
     "text": [
      "aa -> bb -> cc aa -> dd -> ee -> ii -> jj -> kk -> rr -> tt"
     ]
    }
   ],
   "source": [
    "print_node()"
   ]
  },
  {
   "cell_type": "code",
   "execution_count": 22,
   "id": "23940030",
   "metadata": {},
   "outputs": [],
   "source": [
    "def insert_node(new_node):   # 마지막에 데이터 추가\n",
    "    global head\n",
    "    if head == None:   # 처음 node인 경우, head 에 추가할 node  주소 저장\n",
    "        head = new_node\n",
    "        return\n",
    "    node = head    # 처음  node  지정\n",
    "    while node.link:     # 추가할 위치 검색 후 node 추가\n",
    "        if node.data > new_node.data:\n",
    "            if node == head:    # 제일 앞에 추가할 경우\n",
    "                head = new_node\n",
    "                new_node.link = node\n",
    "            else:  # 중간 node  삽입\n",
    "                prev.link = new_node   # 이전 node에 새로운 node 연결\n",
    "                new_node.link = node   # 새로운 node에 현재 node 연결\n",
    "            return\n",
    "        prev = node        #  이전 node 저장\n",
    "        node = node.link   # 다음 node로 이동    \n",
    "    # 추가할 위치 없음 -> 마지막에 node  추가\n",
    "    if head == node and node.data > new_node.data:\n",
    "        head = new_node\n",
    "        new_node.link = node\n",
    "    else:\n",
    "        node.link = new_node  # 마지막 node에 추가"
   ]
  },
  {
   "cell_type": "code",
   "execution_count": 11,
   "id": "e63bea1f",
   "metadata": {},
   "outputs": [],
   "source": [
    "head = None "
   ]
  },
  {
   "cell_type": "code",
   "execution_count": 17,
   "id": "baae0d2a",
   "metadata": {},
   "outputs": [
    {
     "name": "stdout",
     "output_type": "stream",
     "text": [
      "추가할 이름 입력 : jj\n",
      "aa->bb->cc aa->dd->ee->ii->jj->kk->rr->tt->추가할 이름 입력 : \n",
      "aa->bb->cc aa->dd->ee->ii->jj->kk->rr->tt->"
     ]
    }
   ],
   "source": [
    "while True:\n",
    "    data = input(\"추가할 이름 입력 : \")\n",
    "    if not data:\n",
    "        break\n",
    "    \n",
    "    node = Node()\n",
    "    node.data = data\n",
    "    insert_node(node)\n",
    "    print_node()\n",
    "\n",
    "print_node()  # 최종 자료 출력"
   ]
  },
  {
   "cell_type": "code",
   "execution_count": null,
   "id": "dea7ef78",
   "metadata": {},
   "outputs": [],
   "source": []
  }
 ],
 "metadata": {
  "kernelspec": {
   "display_name": "Python 3 (ipykernel)",
   "language": "python",
   "name": "python3"
  },
  "language_info": {
   "codemirror_mode": {
    "name": "ipython",
    "version": 3
   },
   "file_extension": ".py",
   "mimetype": "text/x-python",
   "name": "python",
   "nbconvert_exporter": "python",
   "pygments_lexer": "ipython3",
   "version": "3.9.13"
  }
 },
 "nbformat": 4,
 "nbformat_minor": 5
}
