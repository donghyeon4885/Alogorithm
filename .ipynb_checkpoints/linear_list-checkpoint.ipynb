{
 "cells": [
  {
   "cell_type": "markdown",
   "id": "24e059a2",
   "metadata": {},
   "source": [
    "# 선형 리스트의 간단 구현"
   ]
  },
  {
   "cell_type": "code",
   "execution_count": 6,
   "id": "0aced432",
   "metadata": {},
   "outputs": [
    {
     "name": "stdout",
     "output_type": "stream",
     "text": [
      "['다현', '정연', '쯔위', '사나', '지효']\n",
      "다현 지효\n",
      "지효\n"
     ]
    }
   ],
   "source": [
    "\n",
    "katok = ['다현', '정연', '쯔위', '사나', '지효']\n",
    "print(katok)\n",
    "\n",
    "# 1등과 꼴등 출력\n",
    "print(katok[0], katok[-1])\n",
    "print(katok[len(katok) - 1])"
   ]
  },
  {
   "cell_type": "code",
   "execution_count": null,
   "id": "d83c3dbd",
   "metadata": {},
   "outputs": [],
   "source": [
    "#  데이터 삽입 : 마지막에 데이터 삽입\n",
    "# 1. 마지막에 빈 요소 추가\n",
    "katok.append(None)\n",
    "print(katok)\n",
    "\n",
    "# 2. 마지막 None 자리에 자료 추가 ('모모')\n",
    "katok[-1] = '모모'\n",
    "print(katok)"
   ]
  },
  {
   "cell_type": "code",
   "execution_count": null,
   "id": "0f50b913",
   "metadata": {},
   "outputs": [],
   "source": [
    "# 중간에 3번째 위치에 삽입 -> '모모'\n",
    "# 1. 마지막에  None  추가\n",
    "# 2. 추가 하고자 하는 위치 까지의 자료를 뒤로 이동\n",
    "katok = ['다현', '정연', '쯔위', '사나', '지효']\n",
    "\n",
    "# 1. \n",
    "katok.append(None)\n",
    "# katok_len = len(katok) - 1\n",
    "katok[5] = katok[4]\n",
    "katok[4] = None\n",
    "print(katok)\n",
    "print()\n",
    "#katok[4] <- katok[3]\n",
    "katok[4] = katok[3]\n",
    "katok[3] = None\n",
    "print(katok)\n",
    "katok[3] = '모모'\n",
    "print(katok)"
   ]
  },
  {
   "cell_type": "code",
   "execution_count": null,
   "id": "b8b90f8e",
   "metadata": {},
   "outputs": [],
   "source": [
    "#   중간 자료 삭제 ->  인덱스 3의 위치 자료를 삭제\n",
    "katok = ['다현', '정연', '쯔위', '사나', '지효']\n",
    "\n",
    "#  3번째 위치의 자료에  None\n",
    "katok[3] = None\n",
    "\n",
    "# 4번째 자료를 3번째 위치로 이동\n",
    "katok[3] = katok[4]\n",
    "katok[4] = None\n",
    "print(katok)\n",
    "del katok[4]\n",
    "print(katok)"
   ]
  },
  {
   "cell_type": "code",
   "execution_count": null,
   "id": "548349c7",
   "metadata": {},
   "outputs": [],
   "source": [
    "# 배열을 이용한 선형 리스트 생성\n",
    "katok = []\n",
    "\n",
    "# '다현'을 katok 에 추가\n",
    "# 1.  None을 리스트에 추가\n",
    "print(\"katok 의 길이 : \",  len(katok))\n",
    "katok.append(None)\n",
    "print(\"None 추가 후 katok 의 길이 : \",  len(katok))\n",
    "katok[len(katok) - 1] = '다현'\n",
    "print(katok)\n",
    "\n",
    "#   정연 추가\n",
    "katok.append(None)\n",
    "katok[len(katok) - 1] = '정연'\n",
    "print(katok)"
   ]
  },
  {
   "cell_type": "code",
   "execution_count": null,
   "id": "448219e7",
   "metadata": {},
   "outputs": [],
   "source": [
    "#  # 배열을 이용한 선형 리스트 생성 ->  함수를 사용\n",
    "def add_data(friend):\n",
    "    katok.append(None)\n",
    "    katok[len(katok) - 1] = friend\n",
    "\n",
    "katok = []\n",
    "add_data('다현')\n",
    "print(katok)\n",
    "add_data('정연')\n",
    "print(katok)"
   ]
  },
  {
   "cell_type": "code",
   "execution_count": 24,
   "id": "dae22772",
   "metadata": {},
   "outputs": [
    {
     "name": "stdout",
     "output_type": "stream",
     "text": [
      "['다현', '정연', '모모', '쯔위', '사나', '지효']\n",
      "['다현', '정연', '모모', '솔라', '쯔위', '사나', '지효']\n"
     ]
    }
   ],
   "source": [
    "# 중간 위치에 자료 삽입\n",
    "katok = ['다현', '정연', '쯔위', '사나', '지효']\n",
    "\n",
    "# 2번 위치에 '모모'를 추가\n",
    "# 1. 마지막에 None 추가\n",
    "insert_idx = 2\n",
    "katok.append(None)\n",
    "# 2. 마지막에 마지막 -1위 값을 이동, 뒤에서 부터 원하는 위치전까지\n",
    "for idx in range(len(katok)-1, insert_idx, -1):\n",
    "    katok[idx] = katok[idx - 1]\n",
    "    katok[idx - 1] = None\n",
    "katok[insert_idx] = '모모'\n",
    "print(katok)\n",
    "\n",
    "insert_idx = 3\n",
    "katok.append(None)\n",
    "# 2. 마지막에 마지막 -1위 값을 이동, 뒤에서 부터 원하는 위치전까지\n",
    "for idx in range(len(katok)-1, insert_idx, -1):\n",
    "    katok[idx] = katok[idx - 1]\n",
    "    katok[idx - 1] = None\n",
    "katok[insert_idx] = '솔라'\n",
    "print(katok)"
   ]
  },
  {
   "cell_type": "code",
   "execution_count": 31,
   "id": "0e776273",
   "metadata": {},
   "outputs": [
    {
     "name": "stdout",
     "output_type": "stream",
     "text": [
      "['다현', '정연', '모모', '쯔위', '사나', '지효']\n",
      "['다현', '정연', '모모', '쯔위', '솔라', '사나', '지효']\n"
     ]
    }
   ],
   "source": [
    "# insert_data() 함수로 구현\n",
    "def insert_data(position, friend):\n",
    "    if position < 0 or position > len(katok):  # 인덱스 범위 체크\n",
    "        print(\"index range error\")\n",
    "        return \n",
    "    katok.append(None)  #  빈 칸 추가\n",
    "    # 2. 마지막에 마지막 -1위 값을 이동, 뒤에서 부터 원하는 위치전까지\n",
    "    for idx in range(len(katok)-1, position, -1):\n",
    "        katok[idx] = katok[idx - 1]\n",
    "        katok[idx - 1] = None\n",
    "    katok[position] = friend\n",
    "\n",
    "katok = ['다현', '정연', '쯔위', '사나', '지효']\n",
    "insert_data(2,'모모')\n",
    "print(katok)\n",
    "insert_data(4,'솔라')\n",
    "print(katok)"
   ]
  },
  {
   "cell_type": "code",
   "execution_count": 32,
   "id": "f54602f1",
   "metadata": {},
   "outputs": [
    {
     "name": "stdout",
     "output_type": "stream",
     "text": [
      "['다현', '정연', '모모', '솔라', '사나', '지효', None]\n",
      "['다현', '정연', '모모', '솔라', '사나', '지효']\n"
     ]
    }
   ],
   "source": [
    "# 중간 데이터 삭제\n",
    "# 1. 삭제 위치 지정\n",
    "# 2. 삭제 위치에  None\n",
    "# 3. 삭제 위치 + 1부터 마지막 자료까지 이동 , 이동된 위치에 None\n",
    "# 4. 마지막 자료 삭제\n",
    "position = 3  # 쯔위 삭제\n",
    "katok[position] = None\n",
    "for idx in range(position + 1, len(katok)):\n",
    "    katok[idx - 1] = katok[idx]\n",
    "    katok[idx] = None\n",
    "print(katok)\n",
    "del katok[len(katok) -1 ]   # 마지막 자료 삭제\n",
    "print(katok)"
   ]
  },
  {
   "cell_type": "code",
   "execution_count": 34,
   "id": "95fdf1cb",
   "metadata": {},
   "outputs": [
    {
     "name": "stdout",
     "output_type": "stream",
     "text": [
      "['다현', '정연', '사나', '지효']\n",
      "index range error\n"
     ]
    }
   ],
   "source": [
    "# del_data(position)  함수로 정의\n",
    "def del_data(position):\n",
    "    if position < 0 or position > len(katok)-1:  # 인덱스 범위 체크\n",
    "        print(\"index range error\")\n",
    "        return \n",
    "\n",
    "    katok[position] = None\n",
    "    for idx in range(position + 1, len(katok)):\n",
    "        katok[idx - 1] = katok[idx]\n",
    "        katok[idx] = None\n",
    "    del katok[len(katok) -1 ]   # 마지막 자료 삭제  \n",
    "\n",
    "katok = ['다현', '정연', '쯔위', '사나', '지효']\n",
    "del_data(2)\n",
    "print(katok)\n",
    "del_data(10)"
   ]
  }
 ],
 "metadata": {
  "kernelspec": {
   "display_name": "Python 3 (ipykernel)",
   "language": "python",
   "name": "python3"
  },
  "language_info": {
   "codemirror_mode": {
    "name": "ipython",
    "version": 3
   },
   "file_extension": ".py",
   "mimetype": "text/x-python",
   "name": "python",
   "nbconvert_exporter": "python",
   "pygments_lexer": "ipython3",
   "version": "3.9.13"
  }
 },
 "nbformat": 4,
 "nbformat_minor": 5
}
