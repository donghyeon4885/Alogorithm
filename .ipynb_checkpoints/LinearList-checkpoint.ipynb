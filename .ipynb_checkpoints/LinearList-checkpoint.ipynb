{
 "cells": [
  {
   "cell_type": "code",
   "execution_count": 1,
   "id": "fab619fa",
   "metadata": {},
   "outputs": [],
   "source": [
    "def add_data(friend):\n",
    "    katok.append(None)\n",
    "    katok[len(katok) - 1] = friend\n",
    "    \n",
    "def insert_data(position, friend):\n",
    "    if position < 0 or position > len(katok):  # 인덱스 범위 체크\n",
    "        print(\"index range error\")\n",
    "        return \n",
    "    katok.append(None)  #  빈 칸 추가\n",
    "    # 2. 마지막에 마지막 -1위 값을 이동, 뒤에서 부터 원하는 위치전까지\n",
    "    for idx in range(len(katok)-1, position, -1):\n",
    "        katok[idx] = katok[idx - 1]\n",
    "        katok[idx - 1] = None\n",
    "    katok[position] = friend\n",
    "    \n",
    "def delete_data(position):\n",
    "    if position < 0 or position > len(katok)-1:  # 인덱스 범위 체크\n",
    "        print(\"index range error\")\n",
    "        return \n",
    "\n",
    "    katok[position] = None\n",
    "    for idx in range(position + 1, len(katok)):\n",
    "        katok[idx - 1] = katok[idx]\n",
    "        katok[idx] = None\n",
    "    del katok[len(katok) -1 ]   # 마지막 자료 삭제  \n"
   ]
  },
  {
   "cell_type": "code",
   "execution_count": 4,
   "id": "2b303aca",
   "metadata": {},
   "outputs": [
    {
     "name": "stdout",
     "output_type": "stream",
     "text": [
      "선택하세요(1: 추가, 2: 삽입, 3: 삭제, 4: 종료)--> 1\n",
      "추가할 데이터--> 다현\n",
      "['다현']\n",
      "선택하세요(1: 추가, 2: 삽입, 3: 삭제, 4: 종료)--> 1\n",
      "추가할 데이터--> 쯔위\n",
      "['다현', '쯔위']\n",
      "선택하세요(1: 추가, 2: 삽입, 3: 삭제, 4: 종료)--> 2\n",
      "삽입할 위치--> 1\n",
      "추가할 데이터--> 솔라\n",
      "['다현', '솔라', '쯔위']\n",
      "선택하세요(1: 추가, 2: 삽입, 3: 삭제, 4: 종료)--> 3\n",
      "삭제할 위치--> 1\n",
      "['다현', '쯔위']\n",
      "선택하세요(1: 추가, 2: 삽입, 3: 삭제, 4: 종료)--> 1\n",
      "추가할 데이터--> 정연\n",
      "['다현', '쯔위', '정연']\n",
      "선택하세요(1: 추가, 2: 삽입, 3: 삭제, 4: 종료)--> 1\n",
      "추가할 데이터--> 하나\n",
      "['다현', '쯔위', '정연', '하나']\n",
      "선택하세요(1: 추가, 2: 삽입, 3: 삭제, 4: 종료)--> 2\n",
      "삽입할 위치--> 3\n",
      "추가할 데이터--> 문별\n",
      "['다현', '쯔위', '정연', '문별', '하나']\n",
      "선택하세요(1: 추가, 2: 삽입, 3: 삭제, 4: 종료)--> 4\n",
      "['다현', '쯔위', '정연', '문별', '하나']\n"
     ]
    }
   ],
   "source": [
    "## 메인 코드 부분 ## \n",
    "katok = []\n",
    "select = -1\n",
    "if __name__ == \"__main__\" :   \n",
    "    while (select != 4) :\n",
    "        select = int(input(\"선택하세요(1: 추가, 2: 삽입, 3: 삭제, 4: 종료)--> \")) \n",
    "        if (select == 1) :\n",
    "            data = input(\"추가할 데이터--> \")\n",
    "            add_data(data)\n",
    "        elif (select == 2) :\n",
    "            pos = int(input(\"삽입할 위치--> \"))\n",
    "            data = input(\"추가할 데이터--> \")\n",
    "            insert_data(pos, data)\n",
    "        elif (select == 3) :\n",
    "            pos = int(input(\"삭제할 위치--> \"))\n",
    "            delete_data(pos)\n",
    "        elif (select == 4) :\n",
    "            break\n",
    "        else :\n",
    "            print(\"1~4 중 하나를 입력하세요.\")\n",
    "            continue\n",
    "        print(katok)"
   ]
  },
  {
   "cell_type": "code",
   "execution_count": null,
   "id": "d17cf398",
   "metadata": {},
   "outputs": [],
   "source": []
  }
 ],
 "metadata": {
  "kernelspec": {
   "display_name": "Python 3 (ipykernel)",
   "language": "python",
   "name": "python3"
  },
  "language_info": {
   "codemirror_mode": {
    "name": "ipython",
    "version": 3
   },
   "file_extension": ".py",
   "mimetype": "text/x-python",
   "name": "python",
   "nbconvert_exporter": "python",
   "pygments_lexer": "ipython3",
   "version": "3.9.13"
  }
 },
 "nbformat": 4,
 "nbformat_minor": 5
}
