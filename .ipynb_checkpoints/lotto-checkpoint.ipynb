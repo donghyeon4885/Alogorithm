{
 "cells": [
  {
   "cell_type": "code",
   "execution_count": null,
   "id": "1a54aa8c",
   "metadata": {},
   "outputs": [],
   "source": [
    "#  로또 번호 자동 생성\n",
    "import random\n",
    "\n",
    "def create_no():\n",
    "    num_list = []\n",
    "    for _ in range(6):\n",
    "        while True:\n",
    "            num = random.randint(1,45)\n",
    "            if not num in num_list:\n",
    "                break\n",
    "        num_list.append(num)\n",
    "    return num_list\n",
    "\n",
    "if __name__ == '__main__':\n",
    "    cnt = int(input(\"몇 번 생성할까요? : \"))\n",
    "    for i in range(cnt):\n",
    "        print(f'{i+1} 번째 자동 번호 -> ',end=' ')\n",
    "        print( *(create_no()))"
   ]
  },
  {
   "cell_type": "code",
   "execution_count": 13,
   "id": "e62e4ed6",
   "metadata": {},
   "outputs": [
    {
     "name": "stdout",
     "output_type": "stream",
     "text": [
      "\n",
      "나 보기가 역겨워 가실 때에는 말없이 고이 보내 드리오리다\n",
      "영변에 약산 진달래꽃 아름 따다 가실 길에 뿌리오리다\n",
      "가시는 걸음 걸음 놓인 그 꽃을 사뿐히 즈려 밟고 가시옵소서\n",
      "나 보기가 역겨워 가실 때에는 죽어도 아니 눈물 흘리오리다\n",
      " \n",
      "가 -> 7\n",
      "에 -> 4\n",
      "리 -> 6\n",
      "다 -> 4\n"
     ]
    }
   ],
   "source": [
    "# 김소월의 시에서 4회 이상 나온 글자를 출력, 단 영문/한글만 해당\n",
    "poet = '''\n",
    "나 보기가 역겨워 가실 때에는 말없이 고이 보내 드리오리다\n",
    "영변에 약산 진달래꽃 아름 따다 가실 길에 뿌리오리다\n",
    "가시는 걸음 걸음 놓인 그 꽃을 사뿐히 즈려 밟고 가시옵소서\n",
    "나 보기가 역겨워 가실 때에는 죽어도 아니 눈물 흘리오리다\n",
    " '''\n",
    "cnt_dict = {}\n",
    "for char in poet:\n",
    "    if char.isalpha():\n",
    "        if char in cnt_dict:\n",
    "            cnt_dict[char] += 1\n",
    "        else:\n",
    "            cnt_dict[char] = 1\n",
    "            \n",
    "# 원문 출력, 문자 빈도수 4회 이상 출력\n",
    "print(poet)\n",
    "for key, value in cnt_dict.items():\n",
    "    if value >= 4:\n",
    "        print(f'{key} -> {value}')\n"
   ]
  }
 ],
 "metadata": {
  "kernelspec": {
   "display_name": "Python 3 (ipykernel)",
   "language": "python",
   "name": "python3"
  },
  "language_info": {
   "codemirror_mode": {
    "name": "ipython",
    "version": 3
   },
   "file_extension": ".py",
   "mimetype": "text/x-python",
   "name": "python",
   "nbconvert_exporter": "python",
   "pygments_lexer": "ipython3",
   "version": "3.9.13"
  }
 },
 "nbformat": 4,
 "nbformat_minor": 5
}
