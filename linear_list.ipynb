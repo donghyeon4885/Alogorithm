{
 "cells": [
  {
   "cell_type": "markdown",
   "id": "a8f3fc4e",
   "metadata": {},
   "source": [
    "# 선형 리스트의 간단 구현"
   ]
  },
  {
   "cell_type": "code",
   "execution_count": 6,
   "id": "851c11e4",
   "metadata": {},
   "outputs": [
    {
     "name": "stdout",
     "output_type": "stream",
     "text": [
      "['다현', '정연', '쯔위', '사나', '지효']\n",
      "다현 지효\n",
      "지효\n"
     ]
    }
   ],
   "source": [
    "\n",
    "katok = ['다현', '정연', '쯔위', '사나', '지효']\n",
    "print(katok)\n",
    "\n",
    "# 1등과 꼴등 출력\n",
    "print(katok[0], katok[-1])\n",
    "print(katok[len(katok) - 1])"
   ]
  },
  {
   "cell_type": "code",
   "execution_count": null,
   "id": "2de4ef68",
   "metadata": {},
   "outputs": [],
   "source": [
    "#  데이터 삽입 : 마지막에 데이터 삽입\n",
    "# 1. 마지막에 빈 요소 추가\n",
    "katok.append(None)\n",
    "print(katok)\n",
    "\n",
    "# 2. 마지막 None 자리에 자료 추가 ('모모')\n",
    "katok[-1] = '모모'\n",
    "print(katok)"
   ]
  },
  {
   "cell_type": "code",
   "execution_count": null,
   "id": "9bdd244a",
   "metadata": {},
   "outputs": [],
   "source": [
    "# 중간에 3번째 위치에 삽입 -> '모모'\n",
    "# 1. 마지막에  None  추가\n",
    "# 2. 추가 하고자 하는 위치 까지의 자료를 뒤로 이동\n",
    "katok = ['다현', '정연', '쯔위', '사나', '지효']\n",
    "\n",
    "# 1. \n",
    "katok.append(None)\n",
    "# katok_len = len(katok) - 1\n",
    "katok[5] = katok[4]\n",
    "katok[4] = None\n",
    "print(katok)\n",
    "print()\n",
    "#katok[4] <- katok[3]\n",
    "katok[4] = katok[3]\n",
    "katok[3] = None\n",
    "print(katok)\n",
    "katok[3] = '모모'\n",
    "print(katok)"
   ]
  },
  {
   "cell_type": "code",
   "execution_count": null,
   "id": "d053800b",
   "metadata": {},
   "outputs": [],
   "source": [
    "#   중간 자료 삭제 ->  인덱스 3의 위치 자료를 삭제\n",
    "katok = ['다현', '정연', '쯔위', '사나', '지효']\n",
    "\n",
    "#  3번째 위치의 자료에  None\n",
    "katok[3] = None\n",
    "\n",
    "# 4번째 자료를 3번째 위치로 이동\n",
    "katok[3] = katok[4]\n",
    "katok[4] = None\n",
    "print(katok)\n",
    "del katok[4]\n",
    "print(katok)"
   ]
  },
  {
   "cell_type": "code",
   "execution_count": null,
   "id": "c68e75b6",
   "metadata": {},
   "outputs": [],
   "source": [
    "# 배열을 이용한 선형 리스트 생성\n",
    "katok = []\n",
    "\n",
    "# '다현'을 katok 에 추가\n",
    "# 1.  None을 리스트에 추가\n",
    "print(\"katok 의 길이 : \",  len(katok))\n",
    "katok.append(None)\n",
    "print(\"None 추가 후 katok 의 길이 : \",  len(katok))\n",
    "katok[len(katok) - 1] = '다현'\n",
    "print(katok)\n",
    "\n",
    "#   정연 추가\n",
    "katok.append(None)\n",
    "katok[len(katok) - 1] = '정연'\n",
    "print(katok)"
   ]
  },
  {
   "cell_type": "code",
   "execution_count": null,
   "id": "c7752a7d",
   "metadata": {},
   "outputs": [],
   "source": [
    "#  # 배열을 이용한 선형 리스트 생성 ->  함수를 사용\n",
    "def add_data(friend):\n",
    "    katok.append(None)\n",
    "    katok[len(katok) - 1] = friend\n",
    "\n",
    "katok = []\n",
    "add_data('다현')\n",
    "print(katok)\n",
    "add_data('정연')\n",
    "print(katok)"
   ]
  },
  {
   "cell_type": "code",
   "execution_count": 24,
   "id": "87fad66b",
   "metadata": {},
   "outputs": [
    {
     "name": "stdout",
     "output_type": "stream",
     "text": [
      "['다현', '정연', '모모', '쯔위', '사나', '지효']\n",
      "['다현', '정연', '모모', '솔라', '쯔위', '사나', '지효']\n"
     ]
    }
   ],
   "source": [
    "# 중간 위치에 자료 삽입\n",
    "katok = ['다현', '정연', '쯔위', '사나', '지효']\n",
    "\n",
    "# 2번 위치에 '모모'를 추가\n",
    "# 1. 마지막에 None 추가\n",
    "insert_idx = 2\n",
    "katok.append(None)\n",
    "# 2. 마지막에 마지막 -1위 값을 이동, 뒤에서 부터 원하는 위치전까지\n",
    "for idx in range(len(katok)-1, insert_idx, -1):\n",
    "    katok[idx] = katok[idx - 1]\n",
    "    katok[idx - 1] = None\n",
    "katok[insert_idx] = '모모'\n",
    "print(katok)\n",
    "\n",
    "insert_idx = 3\n",
    "katok.append(None)\n",
    "# 2. 마지막에 마지막 -1위 값을 이동, 뒤에서 부터 원하는 위치전까지\n",
    "for idx in range(len(katok)-1, insert_idx, -1):\n",
    "    katok[idx] = katok[idx - 1]\n",
    "    katok[idx - 1] = None\n",
    "katok[insert_idx] = '솔라'\n",
    "print(katok)"
   ]
  },
  {
   "cell_type": "code",
   "execution_count": 31,
   "id": "66b3948b",
   "metadata": {},
   "outputs": [
    {
     "name": "stdout",
     "output_type": "stream",
     "text": [
      "['다현', '정연', '모모', '쯔위', '사나', '지효']\n",
      "['다현', '정연', '모모', '쯔위', '솔라', '사나', '지효']\n"
     ]
    }
   ],
   "source": [
    "# insert_data() 함수로 구현\n",
    "def insert_data(position, friend):\n",
    "    if position < 0 or position > len(katok):  # 인덱스 범위 체크\n",
    "        print(\"index range error\")\n",
    "        return \n",
    "    katok.append(None)  #  빈 칸 추가\n",
    "    # 2. 마지막에 마지막 -1위 값을 이동, 뒤에서 부터 원하는 위치전까지\n",
    "    for idx in range(len(katok)-1, position, -1):\n",
    "        katok[idx] = katok[idx - 1]\n",
    "        katok[idx - 1] = None\n",
    "    katok[position] = friend\n",
    "\n",
    "katok = ['다현', '정연', '쯔위', '사나', '지효']\n",
    "insert_data(2,'모모')\n",
    "print(katok)\n",
    "insert_data(4,'솔라')\n",
    "print(katok)"
   ]
  },
  {
   "cell_type": "code",
   "execution_count": 32,
   "id": "3438b811",
   "metadata": {},
   "outputs": [
    {
     "name": "stdout",
     "output_type": "stream",
     "text": [
      "['다현', '정연', '모모', '솔라', '사나', '지효', None]\n",
      "['다현', '정연', '모모', '솔라', '사나', '지효']\n"
     ]
    }
   ],
   "source": [
    "# 중간 데이터 삭제\n",
    "# 1. 삭제 위치 지정\n",
    "# 2. 삭제 위치에  None\n",
    "# 3. 삭제 위치 + 1부터 마지막 자료까지 이동 , 이동된 위치에 None\n",
    "# 4. 마지막 자료 삭제\n",
    "position = 3  # 쯔위 삭제\n",
    "katok[position] = None\n",
    "for idx in range(position + 1, len(katok)):\n",
    "    katok[idx - 1] = katok[idx]\n",
    "    katok[idx] = None\n",
    "print(katok)\n",
    "del katok[len(katok) -1 ]   # 마지막 자료 삭제\n",
    "print(katok)"
   ]
  },
  {
   "cell_type": "code",
   "execution_count": null,
   "id": "78c07e1b",
   "metadata": {},
   "outputs": [],
   "source": [
    "# del_data(position)  함수로 정의\n",
    "def del_data(position):\n",
    "    if position < 0 or position > len(katok)-1:  # 인덱스 범위 체크\n",
    "        print(\"index range error\")\n",
    "        return \n",
    "\n",
    "    katok[position] = None\n",
    "    for idx in range(position + 1, len(katok)):\n",
    "        katok[idx - 1] = katok[idx]\n",
    "        katok[idx] = None\n",
    "    del katok[len(katok) -1 ]   # 마지막 자료 삭제  \n",
    "\n",
    "katok = ['다현', '정연', '쯔위', '사나', '지효']\n",
    "del_data(2)\n",
    "print(katok)\n",
    "del_data(10)"
   ]
  },
  {
   "cell_type": "code",
   "execution_count": 40,
   "id": "f4e76396",
   "metadata": {},
   "outputs": [
    {
     "name": "stdout",
     "output_type": "stream",
     "text": [
      " 추가할 친구 입력 : \n",
      "프로그램 종료 ....\n"
     ]
    }
   ],
   "source": [
    "# 문제 :\n",
    "#  카톡 친구 이름과 카톡 횟수를 입력하면 자동으로 위치를 찾아 삽입하는 프로그램 작성\n",
    "# 친구의 초기 정보는 다음과 같다\n",
    "katok = [('다현',200), ('정연',150), ('쯔위',90), ('시나',30), ('지효',15)]\n",
    "\n",
    "# 새로운 친구와 횟수 입력을 받아 자신의 순위에 해당하는 위치를 찾아 삽입\n",
    "# 동일한 횟수면 새로운 친구를 앞에 삽입\n",
    "# ('미나', 40), ('해리', 200)\n",
    "\n",
    "def insert_data(position, friend):\n",
    "    if position < 0 or position > len(katok):  # 인덱스 범위 체크\n",
    "        print(\"index range error\")\n",
    "        return \n",
    "    katok.append(None)  #  빈 칸 추가\n",
    "    # 2. 마지막에 마지막 -1위 값을 이동, 뒤에서 부터 원하는 위치전까지\n",
    "    for idx in range(len(katok)-1, position, -1):\n",
    "        katok[idx] = katok[idx - 1]\n",
    "        katok[idx - 1] = None\n",
    "    katok[position] = friend\n",
    "\n",
    "while True:\n",
    "    new_friend = input(' 추가할 친구 입력 : ')\n",
    "    if not new_friend:  #  입력한 내용이 없으면 반복문 탈출\n",
    "    # if new_friend == ''\n",
    "        break\n",
    "        \n",
    "    new_cnt = int(input('카톡 횟수 입력 : '))\n",
    "    #  삽입할 위치 검색\n",
    "    for idx in range(len(katok)):\n",
    "        if new_cnt >= katok[idx][1]:\n",
    "            insert_data(idx, (new_friend, new_cnt))\n",
    "            break\n",
    "    print(katok)        \n",
    "print(\"프로그램 종료 ....\")        "
   ]
  },
  {
   "cell_type": "code",
   "execution_count": null,
   "id": "8635433c",
   "metadata": {},
   "outputs": [],
   "source": []
  }
 ],
 "metadata": {
  "kernelspec": {
   "display_name": "Python 3 (ipykernel)",
   "language": "python",
   "name": "python3"
  },
  "language_info": {
   "codemirror_mode": {
    "name": "ipython",
    "version": 3
   },
   "file_extension": ".py",
   "mimetype": "text/x-python",
   "name": "python",
   "nbconvert_exporter": "python",
   "pygments_lexer": "ipython3",
   "version": "3.9.13"
  }
 },
 "nbformat": 4,
 "nbformat_minor": 5
}
