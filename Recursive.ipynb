{
 "cells": [
  {
   "cell_type": "code",
   "execution_count": 2,
   "id": "2607285f",
   "metadata": {},
   "outputs": [],
   "source": [
    "# 재귀 함수 작성\n",
    "def openbox():\n",
    "    global count\n",
    "    \n",
    "    count -= 1   # count를 1 감소 시킴\n",
    "    if count == 0:\n",
    "        print(\" 반지를 넣습니다 \")\n",
    "        return\n",
    "    \n",
    "    print(\"종이 상자를 엽니다\")\n",
    "    openbox()\n",
    "    print(\"종이 상자를 닫습니다\")\n",
    "\n",
    "count = 10\n",
    "openbox()"
   ]
  },
  {
   "cell_type": "code",
   "execution_count": 5,
   "id": "eb6f0d7a",
   "metadata": {},
   "outputs": [
    {
     "name": "stdout",
     "output_type": "stream",
     "text": [
      "55\n",
      "5050\n"
     ]
    }
   ],
   "source": [
    "# addnum() 재귀 함수로 구현\n",
    "def addnum(num):\n",
    "    if num <= 1:  # 무한 반복을 탈출하는 조건\n",
    "        return 1\n",
    "    return num + addnum(num - 1)\n",
    "\n",
    "print(addnum(10))\n",
    "print(addnum(100))"
   ]
  },
  {
   "cell_type": "code",
   "execution_count": 14,
   "id": "71d1fbcc",
   "metadata": {},
   "outputs": [
    {
     "name": "stdout",
     "output_type": "stream",
     "text": [
      "두 수를 입력 100 -1\n",
      "5049\n"
     ]
    }
   ],
   "source": [
    "# 문) 두 수를 입력 받아 두 수 사이의 합을 구하세요 \n",
    "#    단, 입력하는 수는 작은 숫자 또는 큰 숫자중 어느 것을 입력해도 결과는 동일\n",
    "def hapnum(num):\n",
    "    global start_num\n",
    "    if num <= start_num:\n",
    "        return start_num\n",
    "    return num + hapnum(num - 1)\n",
    "\n",
    "start_num, stop_num = input(\"두 수를 입력 \").split()\n",
    "start_num = int(start_num)\n",
    "stop_num = int(stop_num)\n",
    "\n",
    "if start_num > stop_num:\n",
    "    start_num, stop_num = stop_num, start_num  # 두 수를 바꿈\n",
    "print(hapnum(stop_num))"
   ]
  },
  {
   "cell_type": "code",
   "execution_count": null,
   "id": "6ff82b9d",
   "metadata": {},
   "outputs": [],
   "source": [
    "# 2단부터 9단까지 구구단 출력 : 재귀함수로 구현\n",
    "def gugudan(dan, num):\n",
    "    print(\"{} * {} = {}\".format(dan, num, dan*num))\n",
    "    if num < 9:\n",
    "        gugudan(dan, num + 1)\n",
    "        \n",
    "for dan in range(2, 10):\n",
    "    print(f\"## {dan} 단 ##\")\n",
    "    gugudan(dan, 1)\n",
    "    print()"
   ]
  },
  {
   "cell_type": "code",
   "execution_count": 38,
   "id": "4aee0a95",
   "metadata": {},
   "outputs": [
    {
     "name": "stdout",
     "output_type": "stream",
     "text": [
      "2 * 1 =  2\t3 * 1 =  3\t4 * 1 =  4\t5 * 1 =  5\t6 * 1 =  6\t7 * 1 =  7\t8 * 1 =  8\t9 * 1 =  9\t2 * 2 =  4\t3 * 2 =  6\t4 * 2 =  8\t5 * 2 = 10\t6 * 2 = 12\t7 * 2 = 14\t8 * 2 = 16\t9 * 2 = 18\t2 * 3 =  6\t3 * 3 =  9\t4 * 3 = 12\t5 * 3 = 15\t6 * 3 = 18\t7 * 3 = 21\t8 * 3 = 24\t9 * 3 = 27\t2 * 4 =  8\t3 * 4 = 12\t4 * 4 = 16\t5 * 4 = 20\t6 * 4 = 24\t7 * 4 = 28\t8 * 4 = 32\t9 * 4 = 36\t2 * 5 = 10\t3 * 5 = 15\t4 * 5 = 20\t5 * 5 = 25\t6 * 5 = 30\t7 * 5 = 35\t8 * 5 = 40\t9 * 5 = 45\t2 * 6 = 12\t3 * 6 = 18\t4 * 6 = 24\t5 * 6 = 30\t6 * 6 = 36\t7 * 6 = 42\t8 * 6 = 48\t9 * 6 = 54\t2 * 7 = 14\t3 * 7 = 21\t4 * 7 = 28\t5 * 7 = 35\t6 * 7 = 42\t7 * 7 = 49\t8 * 7 = 56\t9 * 7 = 63\t2 * 8 = 16\t3 * 8 = 24\t4 * 8 = 32\t5 * 8 = 40\t6 * 8 = 48\t7 * 8 = 56\t8 * 8 = 64\t9 * 8 = 72\t2 * 9 = 18\t3 * 9 = 27\t4 * 9 = 36\t5 * 9 = 45\t6 * 9 = 54\t7 * 9 = 63\t8 * 9 = 72\t9 * 9 = 81\t"
     ]
    }
   ],
   "source": [
    "# 2단부터 9단까지 구구단 출력 : 재귀함수로 구현 -> 변형\n",
    "def gugudan1(dan, num):\n",
    "    print(\"{} * {} = {:2d}\".format(dan, num, dan*num), end='\\t')\n",
    "    if dan < 9:\n",
    "        gugudan1(dan+1, num)\n",
    "          \n",
    "for num in range(1, 10):\n",
    "    gugudan1(2, num)\n"
   ]
  },
  {
   "cell_type": "code",
   "execution_count": null,
   "id": "10f6ef7b",
   "metadata": {},
   "outputs": [],
   "source": []
  },
  {
   "cell_type": "code",
   "execution_count": null,
   "id": "c94a1f0e",
   "metadata": {},
   "outputs": [],
   "source": []
  },
  {
   "cell_type": "code",
   "execution_count": null,
   "id": "ee7a903d",
   "metadata": {},
   "outputs": [],
   "source": []
  },
  {
   "cell_type": "code",
   "execution_count": null,
   "id": "233382e2",
   "metadata": {},
   "outputs": [],
   "source": []
  }
 ],
 "metadata": {
  "kernelspec": {
   "display_name": "Python 3 (ipykernel)",
   "language": "python",
   "name": "python3"
  },
  "language_info": {
   "codemirror_mode": {
    "name": "ipython",
    "version": 3
   },
   "file_extension": ".py",
   "mimetype": "text/x-python",
   "name": "python",
   "nbconvert_exporter": "python",
   "pygments_lexer": "ipython3",
   "version": "3.9.13"
  }
 },
 "nbformat": 4,
 "nbformat_minor": 5
}
